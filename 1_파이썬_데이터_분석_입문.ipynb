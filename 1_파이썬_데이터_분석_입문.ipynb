{
 "cells": [
  {
   "cell_type": "code",
   "execution_count": 2,
   "metadata": {},
   "outputs": [
    {
     "name": "stdout",
     "output_type": "stream",
     "text": [
      "Output #124: 5\n"
     ]
    }
   ],
   "source": [
    "#if-else문\n",
    "x=5\n",
    "if x>4 or x !=9:\n",
    "    print(\"Output #124: {}\".format(x))\n",
    "else:\n",
    "    print(\"Output #124: x is not greater than 4\")"
   ]
  },
  {
   "cell_type": "code",
   "execution_count": 8,
   "metadata": {},
   "outputs": [
    {
     "name": "stdout",
     "output_type": "stream",
     "text": [
      "Output #125: 25\n"
     ]
    }
   ],
   "source": [
    "#if-elif-else문\n",
    "if x>6:\n",
    "    print(\"Output #125: x is greater than six\")\n",
    "elif x>4 and x==5:\n",
    "    print(\"Output #125: {}\".format(x*x))\n",
    "else:\n",
    "    print(\"Output #125: x is not greater than 4\")"
   ]
  },
  {
   "cell_type": "code",
   "execution_count": 9,
   "metadata": {},
   "outputs": [
    {
     "name": "stdout",
     "output_type": "stream",
     "text": [
      "Output #126:\n",
      "Jan\n",
      "Feb\n",
      "Mar\n",
      "Apr\n",
      "May\n",
      "Jun\n",
      "Jul\n",
      "Aug\n",
      "Sep\n",
      "Oct\n",
      "Nov\n",
      "Dec\n",
      "Output #127: (index value: name in list)\n",
      "0: Annie\n",
      "1: Betty\n",
      "2: Claire\n",
      "3: Daphne\n",
      "4: Ellie\n",
      "5: Franchesca\n",
      "6: Greta\n",
      "7: Holly\n",
      "8: Isabel\n",
      "9: Jenny\n",
      "Output #128: (access elements in y with z's index values)\n",
      "Jan\n",
      "Jun\n",
      "Jul\n",
      "Output #129:\n"
     ]
    },
    {
     "ename": "NameError",
     "evalue": "name 'another_dict' is not defined",
     "output_type": "error",
     "traceback": [
      "\u001b[1;31m---------------------------------------------------------------------------\u001b[0m",
      "\u001b[1;31mNameError\u001b[0m                                 Traceback (most recent call last)",
      "\u001b[1;32m<ipython-input-9-c1210a43f603>\u001b[0m in \u001b[0;36m<module>\u001b[1;34m\u001b[0m\n\u001b[0;32m     18\u001b[0m \u001b[1;33m\u001b[0m\u001b[0m\n\u001b[0;32m     19\u001b[0m \u001b[0mprint\u001b[0m\u001b[1;33m(\u001b[0m\u001b[1;34m\"Output #129:\"\u001b[0m\u001b[1;33m)\u001b[0m\u001b[1;33m\u001b[0m\u001b[1;33m\u001b[0m\u001b[0m\n\u001b[1;32m---> 20\u001b[1;33m \u001b[1;32mfor\u001b[0m \u001b[0mkey\u001b[0m\u001b[1;33m,\u001b[0m \u001b[0mvalue\u001b[0m \u001b[1;32min\u001b[0m \u001b[0manother_dict\u001b[0m\u001b[1;33m.\u001b[0m\u001b[0mitems\u001b[0m\u001b[1;33m(\u001b[0m\u001b[1;33m)\u001b[0m\u001b[1;33m:\u001b[0m\u001b[1;33m\u001b[0m\u001b[1;33m\u001b[0m\u001b[0m\n\u001b[0m\u001b[0;32m     21\u001b[0m     \u001b[0mprint\u001b[0m\u001b[1;33m(\u001b[0m\u001b[1;34m\"{0:s}, {1}\"\u001b[0m\u001b[1;33m.\u001b[0m\u001b[0mformat\u001b[0m\u001b[1;33m(\u001b[0m\u001b[0mkey\u001b[0m\u001b[1;33m,\u001b[0m \u001b[0mvalue\u001b[0m\u001b[1;33m)\u001b[0m\u001b[1;33m)\u001b[0m\u001b[1;33m\u001b[0m\u001b[1;33m\u001b[0m\u001b[0m\n",
      "\u001b[1;31mNameError\u001b[0m: name 'another_dict' is not defined"
     ]
    }
   ],
   "source": [
    "y=['Jan', 'Feb', 'Mar', 'Apr', 'May', 'Jun', 'Jul', 'Aug', 'Sep', 'Oct', \\\n",
    "'Nov', 'Dec']\n",
    "z=['Annie', 'Betty', 'Claire', 'Daphne', 'Ellie', \\\n",
    "'Franchesca', 'Greta', 'Holly', 'Isabel', 'Jenny']\n",
    "\n",
    "print(\"Output #126:\")\n",
    "for month in y:\n",
    "    print(\"{!s}\".format(month))\n",
    "    \n",
    "print(\"Output #127: (index value: name in list)\")\n",
    "for i in range(len(z)):\n",
    "    print(\"{0!s}: {1:s}\".format(i, z[i]))\n",
    "    \n",
    "print(\"Output #128: (access elements in y with z's index values)\")\n",
    "for j in range(len(z)):\n",
    "    if y[j].startswith('J'):\n",
    "        print(\"{!s}\".format(y[j]))\n",
    "        \n",
    "print(\"Output #129:\")\n",
    "for key, value in another_dict.items():\n",
    "    print(\"{0:s}, {1}\".format(key, value))\n"
   ]
  },
  {
   "cell_type": "code",
   "execution_count": 10,
   "metadata": {},
   "outputs": [
    {
     "name": "stdout",
     "output_type": "stream",
     "text": [
      "Output #130 (list comprehension): [[4, 5, 6], [7, 8, 9]]\n"
     ]
    }
   ],
   "source": [
    "#리스트 축약을 이용하여 특정 행을 고르기\n",
    "my_data = [[1,2,3], [4,5,6], [7,8,9]]\n",
    "rows_to_keep=[row for row in my_data if row[2] > 5]\n",
    "print(\"Output #130 (list comprehension): {}\".format(rows_to_keep))"
   ]
  },
  {
   "cell_type": "code",
   "execution_count": 11,
   "metadata": {},
   "outputs": [
    {
     "name": "stdout",
     "output_type": "stream",
     "text": [
      "Output #131 (set comprehension): {(4, 5, 6), (7, 8, 9), (1, 2, 3)}\n",
      "Output #132 (set function): {(4, 5, 6), (7, 8, 9), (1, 2, 3)}\n"
     ]
    }
   ],
   "source": [
    "#집합 축약을 이용하여 리스트의 고유한 튜플 집합을 고르기\n",
    "my_data=[(1,2,3), (4,5,6), (7,8,9), (7,8,9)]\n",
    "set_of_tuples1 = {x for x in my_data}\n",
    "print(\"Output #131 (set comprehension): {}\".format(set_of_tuples1))\n",
    "set_of_tuples2=set(my_data)\n",
    "print(\"Output #132 (set function): {}\".format(set_of_tuples2))"
   ]
  },
  {
   "cell_type": "code",
   "execution_count": 12,
   "metadata": {},
   "outputs": [
    {
     "name": "stdout",
     "output_type": "stream",
     "text": [
      "Output #133 (dictionary comprehension): {'customer3': 11}\n"
     ]
    }
   ],
   "source": [
    "#딕셔너리 축약을 잉ㅇ하여 특정 키=값 쌍들을 고르기\n",
    "my_dictionary={'customer1':7, 'customer2':9, 'customer3':11}\n",
    "my_results={key:value for key, value in my_dictionary.items() if value > 10}\n",
    "print(\"Output #133 (dictionary comprehension): {}\".format(my_results))"
   ]
  },
  {
   "cell_type": "markdown",
   "metadata": {},
   "source": [
    "# while문"
   ]
  },
  {
   "cell_type": "code",
   "execution_count": 13,
   "metadata": {},
   "outputs": [
    {
     "name": "stdout",
     "output_type": "stream",
     "text": [
      "Output #134:\n",
      "0\n",
      "1\n",
      "2\n",
      "3\n",
      "4\n",
      "5\n",
      "6\n",
      "7\n",
      "8\n",
      "9\n",
      "10\n"
     ]
    }
   ],
   "source": [
    "print(\"Output #134:\")\n",
    "x=0\n",
    "while x<11:\n",
    "    print(\"{!s}\".format(x))\n",
    "    x+=1\n"
   ]
  },
  {
   "cell_type": "markdown",
   "metadata": {},
   "source": [
    "# 함수"
   ]
  },
  {
   "cell_type": "code",
   "execution_count": 14,
   "metadata": {},
   "outputs": [
    {
     "name": "stdout",
     "output_type": "stream",
     "text": [
      "Output #135 (mean): 5.0\n"
     ]
    }
   ],
   "source": [
    "#숫자 시퀀스의 평균 계산하기\n",
    "def getMean(numericValues):\n",
    "    return sum(numericValues)/len(numericValues) if len(numericValues) > 0\\\n",
    "    else float('nan')\n",
    "\n",
    "my_list=[2,2,4,4,6,6,8,8]\n",
    "print(\"Output #135 (mean): {!s}\".format(getMean(my_list)))"
   ]
  },
  {
   "cell_type": "code",
   "execution_count": 15,
   "metadata": {},
   "outputs": [
    {
     "name": "stdout",
     "output_type": "stream",
     "text": [
      "Output #136 (mean): 5.0\n"
     ]
    }
   ],
   "source": [
    "import numpy as np\n",
    "print(\"Output #136 (mean): {!s}\".format(np.mean(my_list)))"
   ]
  },
  {
   "cell_type": "markdown",
   "metadata": {},
   "source": [
    "# 예외처리"
   ]
  },
  {
   "cell_type": "code",
   "execution_count": 17,
   "metadata": {},
   "outputs": [
    {
     "name": "stdout",
     "output_type": "stream",
     "text": [
      "Output #137 (Error): nan\n",
      "Output #137 (Error): division by zero\n"
     ]
    }
   ],
   "source": [
    "#숫자 시퀀스의 평균 계산하기\n",
    "def getMean(numericValues):\n",
    "    return sum(numericValues)/len(numericValues)\n",
    "\n",
    "my_list2=[]\n",
    "\n",
    "#짧은 버전\n",
    "try:\n",
    "    print(\"Output #137: {}\".format(getMean(my_list2)))\n",
    "except ZeroDivisionError as detail:\n",
    "    print(\"Output #137 (Error): {}\".format(float('nan')))\n",
    "    print(\"Output #137 (Error): {}\".format(detail))"
   ]
  },
  {
   "cell_type": "code",
   "execution_count": 18,
   "metadata": {},
   "outputs": [
    {
     "name": "stdout",
     "output_type": "stream",
     "text": [
      "Output #138 (Error): nan\n",
      "Output #138 (Error): division by zero\n",
      "Output #138 (Finally): The finally block is executed every time\n"
     ]
    }
   ],
   "source": [
    "#긴 버전\n",
    "try:\n",
    "    result=getMean(my_list2)\n",
    "except ZeroDivisionError as detail:\n",
    "    print(\"Output #138 (Error): {}\".format(float('nan')))\n",
    "    print(\"Output #138 (Error): {}\".format(detail))\n",
    "else:\n",
    "    print(\"Output #138 (The mean is): {}\".format(result))\n",
    "finally:\n",
    "    print(\"Output #138 (Finally): The finally block is executed every time\")"
   ]
  },
  {
   "cell_type": "code",
   "execution_count": 21,
   "metadata": {},
   "outputs": [],
   "source": [
    "from math import exp, log, sqrt\n",
    "import re\n",
    "from datetime import date, time, datetime, timedelta\n",
    "from operator import itemgetter\n",
    "import sys"
   ]
  },
  {
   "cell_type": "code",
   "execution_count": 23,
   "metadata": {},
   "outputs": [
    {
     "name": "stdout",
     "output_type": "stream",
     "text": [
      "Output #139: \n",
      "I'm\n",
      "already\n",
      "much\n",
      "better\n",
      "at\n",
      "Python.\n"
     ]
    }
   ],
   "source": [
    "#파일 읽기\n",
    "#하나의 텍스트 파일 읽기\n",
    "print(\"Output #139: \")\n",
    "#input_file=sys.argv[1]\n",
    "input_file='testtext.txt'\n",
    "filereader=open(input_file, 'r')\n",
    "for row in filereader:\n",
    "    print(row.strip())\n",
    "filereader.close()"
   ]
  },
  {
   "cell_type": "code",
   "execution_count": null,
   "metadata": {},
   "outputs": [],
   "source": []
  }
 ],
 "metadata": {
  "kernelspec": {
   "display_name": "Python 3",
   "language": "python",
   "name": "python3"
  },
  "language_info": {
   "codemirror_mode": {
    "name": "ipython",
    "version": 3
   },
   "file_extension": ".py",
   "mimetype": "text/x-python",
   "name": "python",
   "nbconvert_exporter": "python",
   "pygments_lexer": "ipython3",
   "version": "3.7.4"
  }
 },
 "nbformat": 4,
 "nbformat_minor": 2
}
